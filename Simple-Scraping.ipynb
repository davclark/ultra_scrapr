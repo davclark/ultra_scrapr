{
 "metadata": {
  "name": "",
<<<<<<< Updated upstream
  "signature": "sha256:a36794f5d56bb7d50815e1c242a8c1bf563037d079240ccdba450f9aad78a08f"
=======
  "signature": "sha256:113e4b65a963f8d3ef345666643ae9f045c6dc4fce36945204433f3b9dfca5d1"
>>>>>>> Stashed changes
 },
 "nbformat": 3,
 "nbformat_minor": 0,
 "worksheets": [
  {
   "cells": [
    {
     "cell_type": "markdown",
     "metadata": {},
     "source": [
      "This is the core ultra_scrapr library (have a look at the library yourself!)"
     ]
    },
    {
     "cell_type": "code",
     "collapsed": false,
     "input": [
      "import requests\n",
      "import io\n",
      "\n",
      "def save_web_to_file(url):\n",
      "    '''Use requests to fetch url, then save to a file'''\n",
      "    r = requests.get(url)\n",
      "    # Might be a problem if URL doesn't start with http://\n",
      "    stripped_url = url.split('//')[1]\n",
      "    filename = stripped_url.replace('/', '_')\n",
      "    with io.open(filename, 'w', encoding='utf8') as outfile:\n",
      "        outfile.write(r.text)"
     ],
     "language": "python",
     "metadata": {},
     "outputs": [],
     "prompt_number": 2
    },
    {
     "cell_type": "markdown",
     "metadata": {},
     "source": [
      "What if we want to look at the text of a site interactively?"
     ]
    },
    {
     "cell_type": "code",
     "collapsed": false,
     "input": [
      "url = 'http://sfbay.craigslist.org/mca'\n",
      "response = requests.get(url)\n",
      "print response.text[:500]"
     ],
     "language": "python",
     "metadata": {},
     "outputs": [
      {
       "output_type": "stream",
       "stream": "stdout",
       "text": [
        "<!DOCTYPE html>\n",
        "\n",
        "<html class=\"no-js\"><head>\n",
        "<title>\n",
        "    SF bay area motorcycles/scooters  - craigslist\n",
        "</title>\n",
        "\n",
        "    <meta name=\"description\" content=\"SF bay area motorcycles/scooters  - craigslist\">\n",
        "    <link rel=\"alternate\" type=\"application/rss+xml\" href=\"http://sfbay.craigslist.org/search/mca?format=rss\" title=\"RSS feed for craigslist | motorcycles/scooters  in SF bay area \">\n",
        "    <meta name=\"viewport\" content=\"initial-scale=1.0, user-scalable=1\">\n",
        "    <link type=\"text/css\" rel=\"stylesheet\" me\n"
       ]
      }
     ],
     "prompt_number": 2
    },
    {
     "cell_type": "markdown",
     "metadata": {},
     "source": [
      "The function above just converts the URL to a reasonable filename. What if we wanted to get some prices from that data?"
     ]
    },
    {
     "cell_type": "code",
     "collapsed": false,
     "input": [
      "from lxml import html\n",
      "\n",
      "tree = html.fromstring(response.text)\n",
      "entries = tree.xpath('//span[@class=\"txt\"]')\n",
      "\n",
      "data_table = []\n",
      "for e in entries:\n",
      "    try:\n",
      "        # I'm still stuck in my old Xpath ways. \n",
      "        # You can (and probably should) use CSS selctors!\n",
      "        price = e.xpath('.//span[@class=\"price\"]/text()')[0]\n",
      "        date = e.xpath('.//span/time/@datetime')[0]\n",
      "    except IndexError:\n",
      "        continue\n",
      "    # print e.text_content()\n",
      "    data_table.append([date, price])\n",
      "\n",
      "print data_table"
     ],
     "language": "python",
     "metadata": {},
     "outputs": [
      {
       "output_type": "stream",
       "stream": "stdout",
       "text": [
        "[['2014-10-14 16:20', '$2900'], ['2014-10-14 16:19', '$4700'], ['2014-10-14 16:18', '$4000'], ['2014-10-14 16:17', '$8500'], ['2014-10-14 16:17', '$24'], ['2014-10-14 16:16', '$19'], ['2014-10-14 16:16', '$1500'], ['2014-10-14 16:16', '$4700'], ['2014-10-14 16:16', '$1350'], ['2014-10-14 16:15', '$2200'], ['2014-10-14 16:15', '$1500'], ['2014-10-14 16:14', '$12000'], ['2014-10-14 16:13', '$6200'], ['2014-10-14 16:13', '$1999'], ['2014-10-14 16:13', '$7990'], ['2014-10-14 16:13', '$4499'], ['2014-10-14 16:13', '$20995'], ['2014-10-14 16:13', '$1500'], ['2014-10-14 16:13', '$2999'], ['2014-10-14 16:12', '$7999'], ['2014-10-14 16:12', '$13999'], ['2014-10-14 16:12', '$2700'], ['2014-10-14 16:12', '$6999'], ['2014-10-14 16:12', '$5999'], ['2014-10-14 16:12', '$13999'], ['2014-10-14 16:12', '$5999'], ['2014-10-14 16:12', '$3249'], ['2014-10-14 16:12', '$7999'], ['2014-10-14 16:10', '$6500'], ['2014-10-14 16:10', '$14499'], ['2014-10-14 16:09', '$8495'], ['2014-10-14 16:09', '$12000'], ['2014-10-14 16:08', '$500'], ['2014-10-14 16:06', '$13995'], ['2014-10-14 16:06', '$1100'], ['2014-10-14 16:06', '$9995'], ['2014-10-14 16:01', '$550'], ['2014-10-14 16:00', '$13995'], ['2014-10-14 15:58', '$15990'], ['2014-10-14 15:57', '$1600'], ['2014-10-14 15:57', '$220'], ['2014-10-14 15:57', '$3990'], ['2014-10-14 15:57', '$12990'], ['2014-10-14 15:56', '$6200'], ['2014-10-14 15:53', '$6500'], ['2014-10-14 15:53', '$2999'], ['2014-10-14 15:53', '$3999'], ['2014-10-14 15:52', '$2250'], ['2014-10-14 15:51', '$3600'], ['2014-10-14 15:50', '$9450'], ['2014-10-14 15:49', '$5200'], ['2014-10-14 15:48', '$5995'], ['2014-10-14 15:47', '$7990'], ['2014-10-14 15:45', '$60'], ['2014-10-14 15:45', '$80'], ['2014-10-14 15:45', '$1995'], ['2014-10-14 15:45', '$1895'], ['2014-10-14 15:45', '$1895'], ['2014-10-14 15:45', '$295'], ['2014-10-14 15:44', '$3200'], ['2014-10-14 15:42', '$4500'], ['2014-10-14 15:37', '$3500'], ['2014-10-14 15:37', '$1000'], ['2014-10-14 15:34', '$500'], ['2014-10-14 15:33', '$3890'], ['2014-10-14 15:33', '$10995'], ['2014-10-14 15:32', '$1000'], ['2014-10-14 15:32', '$1995'], ['2014-10-14 15:30', '$1500'], ['2014-10-14 15:28', '$500'], ['2014-10-14 15:26', '$1999'], ['2014-10-14 15:26', '$4999'], ['2014-10-14 15:26', '$800'], ['2014-10-14 15:26', '$8495'], ['2014-10-14 15:25', '$250'], ['2014-10-14 15:24', '$5750'], ['2014-10-14 15:24', '$4999'], ['2014-10-14 15:23', '$7280'], ['2014-10-14 15:23', '$17499'], ['2014-10-14 15:23', '$5580'], ['2014-10-14 15:23', '$8499'], ['2014-10-14 15:23', '$1500'], ['2014-10-14 15:23', '$4499'], ['2014-10-14 15:23', '$2649'], ['2014-10-14 15:22', '$2800'], ['2014-10-14 15:22', '$8499'], ['2014-10-14 15:22', '$7500'], ['2014-10-14 15:21', '$5750'], ['2014-10-14 15:20', '$200']]\n"
       ]
      }
     ],
<<<<<<< Updated upstream
     "prompt_number": 3
=======
     "prompt_number": 5
>>>>>>> Stashed changes
    },
    {
     "cell_type": "code",
     "collapsed": false,
     "input": [
      "import pandas as pd\n",
      "import sys\n",
      "# print pd.DataFrame(data_table, columns=['post_time', 'price'])\n",
      "sys.displayhook(pd.DataFrame(data_table, columns=['post_time', 'price']))"
     ],
     "language": "python",
     "metadata": {},
     "outputs": [
      {
       "html": [
        "<div style=\"max-height:1000px;max-width:1500px;overflow:auto;\">\n",
        "<table border=\"1\" class=\"dataframe\">\n",
        "  <thead>\n",
        "    <tr style=\"text-align: right;\">\n",
        "      <th></th>\n",
        "      <th>post_time</th>\n",
        "      <th>price</th>\n",
        "    </tr>\n",
        "  </thead>\n",
        "  <tbody>\n",
        "    <tr>\n",
        "      <th>0 </th>\n",
        "      <td> 2014-10-14 16:20</td>\n",
        "      <td>  $2900</td>\n",
        "    </tr>\n",
        "    <tr>\n",
        "      <th>1 </th>\n",
        "      <td> 2014-10-14 16:19</td>\n",
        "      <td>  $4700</td>\n",
        "    </tr>\n",
        "    <tr>\n",
        "      <th>2 </th>\n",
        "      <td> 2014-10-14 16:18</td>\n",
        "      <td>  $4000</td>\n",
        "    </tr>\n",
        "    <tr>\n",
        "      <th>3 </th>\n",
        "      <td> 2014-10-14 16:17</td>\n",
        "      <td>  $8500</td>\n",
        "    </tr>\n",
        "    <tr>\n",
        "      <th>4 </th>\n",
        "      <td> 2014-10-14 16:17</td>\n",
        "      <td>    $24</td>\n",
        "    </tr>\n",
        "    <tr>\n",
        "      <th>5 </th>\n",
        "      <td> 2014-10-14 16:16</td>\n",
        "      <td>    $19</td>\n",
        "    </tr>\n",
        "    <tr>\n",
        "      <th>6 </th>\n",
        "      <td> 2014-10-14 16:16</td>\n",
        "      <td>  $1500</td>\n",
        "    </tr>\n",
        "    <tr>\n",
        "      <th>7 </th>\n",
        "      <td> 2014-10-14 16:16</td>\n",
        "      <td>  $4700</td>\n",
        "    </tr>\n",
        "    <tr>\n",
        "      <th>8 </th>\n",
        "      <td> 2014-10-14 16:16</td>\n",
        "      <td>  $1350</td>\n",
        "    </tr>\n",
        "    <tr>\n",
        "      <th>9 </th>\n",
        "      <td> 2014-10-14 16:15</td>\n",
        "      <td>  $2200</td>\n",
        "    </tr>\n",
        "    <tr>\n",
        "      <th>10</th>\n",
        "      <td> 2014-10-14 16:15</td>\n",
        "      <td>  $1500</td>\n",
        "    </tr>\n",
        "    <tr>\n",
        "      <th>11</th>\n",
        "      <td> 2014-10-14 16:14</td>\n",
        "      <td> $12000</td>\n",
        "    </tr>\n",
        "    <tr>\n",
        "      <th>12</th>\n",
        "      <td> 2014-10-14 16:13</td>\n",
        "      <td>  $6200</td>\n",
        "    </tr>\n",
        "    <tr>\n",
        "      <th>13</th>\n",
        "      <td> 2014-10-14 16:13</td>\n",
        "      <td>  $1999</td>\n",
        "    </tr>\n",
        "    <tr>\n",
        "      <th>14</th>\n",
        "      <td> 2014-10-14 16:13</td>\n",
        "      <td>  $7990</td>\n",
        "    </tr>\n",
        "    <tr>\n",
        "      <th>15</th>\n",
        "      <td> 2014-10-14 16:13</td>\n",
        "      <td>  $4499</td>\n",
        "    </tr>\n",
        "    <tr>\n",
        "      <th>16</th>\n",
        "      <td> 2014-10-14 16:13</td>\n",
        "      <td> $20995</td>\n",
        "    </tr>\n",
        "    <tr>\n",
        "      <th>17</th>\n",
        "      <td> 2014-10-14 16:13</td>\n",
        "      <td>  $1500</td>\n",
        "    </tr>\n",
        "    <tr>\n",
        "      <th>18</th>\n",
        "      <td> 2014-10-14 16:13</td>\n",
        "      <td>  $2999</td>\n",
        "    </tr>\n",
        "    <tr>\n",
        "      <th>19</th>\n",
        "      <td> 2014-10-14 16:12</td>\n",
        "      <td>  $7999</td>\n",
        "    </tr>\n",
        "    <tr>\n",
        "      <th>20</th>\n",
        "      <td> 2014-10-14 16:12</td>\n",
        "      <td> $13999</td>\n",
        "    </tr>\n",
        "    <tr>\n",
        "      <th>21</th>\n",
        "      <td> 2014-10-14 16:12</td>\n",
        "      <td>  $2700</td>\n",
        "    </tr>\n",
        "    <tr>\n",
        "      <th>22</th>\n",
        "      <td> 2014-10-14 16:12</td>\n",
        "      <td>  $6999</td>\n",
        "    </tr>\n",
        "    <tr>\n",
        "      <th>23</th>\n",
        "      <td> 2014-10-14 16:12</td>\n",
        "      <td>  $5999</td>\n",
        "    </tr>\n",
        "    <tr>\n",
        "      <th>24</th>\n",
        "      <td> 2014-10-14 16:12</td>\n",
        "      <td> $13999</td>\n",
        "    </tr>\n",
        "    <tr>\n",
        "      <th>25</th>\n",
        "      <td> 2014-10-14 16:12</td>\n",
        "      <td>  $5999</td>\n",
        "    </tr>\n",
        "    <tr>\n",
        "      <th>26</th>\n",
        "      <td> 2014-10-14 16:12</td>\n",
        "      <td>  $3249</td>\n",
        "    </tr>\n",
        "    <tr>\n",
        "      <th>27</th>\n",
        "      <td> 2014-10-14 16:12</td>\n",
        "      <td>  $7999</td>\n",
        "    </tr>\n",
        "    <tr>\n",
        "      <th>28</th>\n",
        "      <td> 2014-10-14 16:10</td>\n",
        "      <td>  $6500</td>\n",
        "    </tr>\n",
        "    <tr>\n",
        "      <th>29</th>\n",
        "      <td> 2014-10-14 16:10</td>\n",
        "      <td> $14499</td>\n",
        "    </tr>\n",
        "    <tr>\n",
        "      <th>...</th>\n",
        "      <td>...</td>\n",
        "      <td>...</td>\n",
        "    </tr>\n",
        "    <tr>\n",
        "      <th>59</th>\n",
        "      <td> 2014-10-14 15:44</td>\n",
        "      <td>  $3200</td>\n",
        "    </tr>\n",
        "    <tr>\n",
        "      <th>60</th>\n",
        "      <td> 2014-10-14 15:42</td>\n",
        "      <td>  $4500</td>\n",
        "    </tr>\n",
        "    <tr>\n",
        "      <th>61</th>\n",
        "      <td> 2014-10-14 15:37</td>\n",
        "      <td>  $3500</td>\n",
        "    </tr>\n",
        "    <tr>\n",
        "      <th>62</th>\n",
        "      <td> 2014-10-14 15:37</td>\n",
        "      <td>  $1000</td>\n",
        "    </tr>\n",
        "    <tr>\n",
        "      <th>63</th>\n",
        "      <td> 2014-10-14 15:34</td>\n",
        "      <td>   $500</td>\n",
        "    </tr>\n",
        "    <tr>\n",
        "      <th>64</th>\n",
        "      <td> 2014-10-14 15:33</td>\n",
        "      <td>  $3890</td>\n",
        "    </tr>\n",
        "    <tr>\n",
        "      <th>65</th>\n",
        "      <td> 2014-10-14 15:33</td>\n",
        "      <td> $10995</td>\n",
        "    </tr>\n",
        "    <tr>\n",
        "      <th>66</th>\n",
        "      <td> 2014-10-14 15:32</td>\n",
        "      <td>  $1000</td>\n",
        "    </tr>\n",
        "    <tr>\n",
        "      <th>67</th>\n",
        "      <td> 2014-10-14 15:32</td>\n",
        "      <td>  $1995</td>\n",
        "    </tr>\n",
        "    <tr>\n",
        "      <th>68</th>\n",
        "      <td> 2014-10-14 15:30</td>\n",
        "      <td>  $1500</td>\n",
        "    </tr>\n",
        "    <tr>\n",
        "      <th>69</th>\n",
        "      <td> 2014-10-14 15:28</td>\n",
        "      <td>   $500</td>\n",
        "    </tr>\n",
        "    <tr>\n",
        "      <th>70</th>\n",
        "      <td> 2014-10-14 15:26</td>\n",
        "      <td>  $1999</td>\n",
        "    </tr>\n",
        "    <tr>\n",
        "      <th>71</th>\n",
        "      <td> 2014-10-14 15:26</td>\n",
        "      <td>  $4999</td>\n",
        "    </tr>\n",
        "    <tr>\n",
        "      <th>72</th>\n",
        "      <td> 2014-10-14 15:26</td>\n",
        "      <td>   $800</td>\n",
        "    </tr>\n",
        "    <tr>\n",
        "      <th>73</th>\n",
        "      <td> 2014-10-14 15:26</td>\n",
        "      <td>  $8495</td>\n",
        "    </tr>\n",
        "    <tr>\n",
        "      <th>74</th>\n",
        "      <td> 2014-10-14 15:25</td>\n",
        "      <td>   $250</td>\n",
        "    </tr>\n",
        "    <tr>\n",
        "      <th>75</th>\n",
        "      <td> 2014-10-14 15:24</td>\n",
        "      <td>  $5750</td>\n",
        "    </tr>\n",
        "    <tr>\n",
        "      <th>76</th>\n",
        "      <td> 2014-10-14 15:24</td>\n",
        "      <td>  $4999</td>\n",
        "    </tr>\n",
        "    <tr>\n",
        "      <th>77</th>\n",
        "      <td> 2014-10-14 15:23</td>\n",
        "      <td>  $7280</td>\n",
        "    </tr>\n",
        "    <tr>\n",
        "      <th>78</th>\n",
        "      <td> 2014-10-14 15:23</td>\n",
        "      <td> $17499</td>\n",
        "    </tr>\n",
        "    <tr>\n",
        "      <th>79</th>\n",
        "      <td> 2014-10-14 15:23</td>\n",
        "      <td>  $5580</td>\n",
        "    </tr>\n",
        "    <tr>\n",
        "      <th>80</th>\n",
        "      <td> 2014-10-14 15:23</td>\n",
        "      <td>  $8499</td>\n",
        "    </tr>\n",
        "    <tr>\n",
        "      <th>81</th>\n",
        "      <td> 2014-10-14 15:23</td>\n",
        "      <td>  $1500</td>\n",
        "    </tr>\n",
        "    <tr>\n",
        "      <th>82</th>\n",
        "      <td> 2014-10-14 15:23</td>\n",
        "      <td>  $4499</td>\n",
        "    </tr>\n",
        "    <tr>\n",
        "      <th>83</th>\n",
        "      <td> 2014-10-14 15:23</td>\n",
        "      <td>  $2649</td>\n",
        "    </tr>\n",
        "    <tr>\n",
        "      <th>84</th>\n",
        "      <td> 2014-10-14 15:22</td>\n",
        "      <td>  $2800</td>\n",
        "    </tr>\n",
        "    <tr>\n",
        "      <th>85</th>\n",
        "      <td> 2014-10-14 15:22</td>\n",
        "      <td>  $8499</td>\n",
        "    </tr>\n",
        "    <tr>\n",
        "      <th>86</th>\n",
        "      <td> 2014-10-14 15:22</td>\n",
        "      <td>  $7500</td>\n",
        "    </tr>\n",
        "    <tr>\n",
        "      <th>87</th>\n",
        "      <td> 2014-10-14 15:21</td>\n",
        "      <td>  $5750</td>\n",
        "    </tr>\n",
        "    <tr>\n",
        "      <th>88</th>\n",
        "      <td> 2014-10-14 15:20</td>\n",
        "      <td>   $200</td>\n",
        "    </tr>\n",
        "  </tbody>\n",
        "</table>\n",
        "<p>89 rows \u00d7 2 columns</p>\n",
        "</div>"
       ],
       "metadata": {},
       "output_type": "pyout",
<<<<<<< Updated upstream
       "prompt_number": 4,
=======
       "prompt_number": 14,
>>>>>>> Stashed changes
       "text": [
        "           post_time   price\n",
        "0   2014-10-14 16:20   $2900\n",
        "1   2014-10-14 16:19   $4700\n",
        "2   2014-10-14 16:18   $4000\n",
        "3   2014-10-14 16:17   $8500\n",
        "4   2014-10-14 16:17     $24\n",
        "5   2014-10-14 16:16     $19\n",
        "6   2014-10-14 16:16   $1500\n",
        "7   2014-10-14 16:16   $4700\n",
        "8   2014-10-14 16:16   $1350\n",
        "9   2014-10-14 16:15   $2200\n",
        "10  2014-10-14 16:15   $1500\n",
        "11  2014-10-14 16:14  $12000\n",
        "12  2014-10-14 16:13   $6200\n",
        "13  2014-10-14 16:13   $1999\n",
        "14  2014-10-14 16:13   $7990\n",
        "15  2014-10-14 16:13   $4499\n",
        "16  2014-10-14 16:13  $20995\n",
        "17  2014-10-14 16:13   $1500\n",
        "18  2014-10-14 16:13   $2999\n",
        "19  2014-10-14 16:12   $7999\n",
        "20  2014-10-14 16:12  $13999\n",
        "21  2014-10-14 16:12   $2700\n",
        "22  2014-10-14 16:12   $6999\n",
        "23  2014-10-14 16:12   $5999\n",
        "24  2014-10-14 16:12  $13999\n",
        "25  2014-10-14 16:12   $5999\n",
        "26  2014-10-14 16:12   $3249\n",
        "27  2014-10-14 16:12   $7999\n",
        "28  2014-10-14 16:10   $6500\n",
        "29  2014-10-14 16:10  $14499\n",
        "..               ...     ...\n",
        "59  2014-10-14 15:44   $3200\n",
        "60  2014-10-14 15:42   $4500\n",
        "61  2014-10-14 15:37   $3500\n",
        "62  2014-10-14 15:37   $1000\n",
        "63  2014-10-14 15:34    $500\n",
        "64  2014-10-14 15:33   $3890\n",
        "65  2014-10-14 15:33  $10995\n",
        "66  2014-10-14 15:32   $1000\n",
        "67  2014-10-14 15:32   $1995\n",
        "68  2014-10-14 15:30   $1500\n",
        "69  2014-10-14 15:28    $500\n",
        "70  2014-10-14 15:26   $1999\n",
        "71  2014-10-14 15:26   $4999\n",
        "72  2014-10-14 15:26    $800\n",
        "73  2014-10-14 15:26   $8495\n",
        "74  2014-10-14 15:25    $250\n",
        "75  2014-10-14 15:24   $5750\n",
        "76  2014-10-14 15:24   $4999\n",
        "77  2014-10-14 15:23   $7280\n",
        "78  2014-10-14 15:23  $17499\n",
        "79  2014-10-14 15:23   $5580\n",
        "80  2014-10-14 15:23   $8499\n",
        "81  2014-10-14 15:23   $1500\n",
        "82  2014-10-14 15:23   $4499\n",
        "83  2014-10-14 15:23   $2649\n",
        "84  2014-10-14 15:22   $2800\n",
        "85  2014-10-14 15:22   $8499\n",
        "86  2014-10-14 15:22   $7500\n",
        "87  2014-10-14 15:21   $5750\n",
        "88  2014-10-14 15:20    $200\n",
        "\n",
        "[89 rows x 2 columns]"
       ]
      }
     ],
<<<<<<< Updated upstream
     "prompt_number": 4
=======
     "prompt_number": 14
>>>>>>> Stashed changes
    },
    {
     "cell_type": "markdown",
     "metadata": {},
     "source": [
      "See the other scripts in this directory for a more general way of scraping rapgenius. But for now, we're going to use the excellent http://genius-api.com/\n",
      "\n",
      "The API has docs for the use of curl, like so:\n",
      "\n",
      "`curl -d 'link=http://rapgenius.com/Gza-liquid-swords-lyrics' -d 'genre=rap' 'http://genius-api.com/api/lyricsInfo'`"
     ]
    },
    {
     "cell_type": "code",
     "collapsed": false,
     "input": [
      "requests.post?"
     ],
     "language": "python",
     "metadata": {},
     "outputs": [],
<<<<<<< Updated upstream
     "prompt_number": 5
=======
     "prompt_number": 7
>>>>>>> Stashed changes
    },
    {
     "cell_type": "code",
     "collapsed": false,
     "input": [
      "resp = requests.post('http://genius-api.com/api/lyricsInfo',\n",
      "                     {'link': \n",
      "                      'link=http://rapgenius.com/Gza-liquid-swords-lyrics',\n",
      "                      'genre': 'rap'})"
     ],
     "language": "python",
     "metadata": {},
     "outputs": [],
     "prompt_number": 8
    },
    {
     "cell_type": "code",
     "collapsed": false,
     "input": [
      "resp.text"
     ],
     "language": "python",
     "metadata": {},
     "outputs": [
      {
       "metadata": {},
       "output_type": "pyout",
       "prompt_number": 9,
       "text": [
        "u'<html>\\r\\n<head><title>502 Bad Gateway</title></head>\\r\\n<body bgcolor=\"white\">\\r\\n<center><h1>502 Bad Gateway</h1></center>\\r\\n<hr><center>nginx/0.8.54</center>\\r\\n</body>\\r\\n</html>\\r\\n'"
       ]
      }
     ],
     "prompt_number": 9
    },
    {
     "cell_type": "markdown",
     "metadata": {},
     "source": [
      "Sadly, this doesn't appear to be working right now :(\n",
      "\n",
      "So, here's a more manual way to get the first 10 links for a musician..."
     ]
    },
    {
     "cell_type": "code",
     "collapsed": false,
     "input": [
<<<<<<< Updated upstream
      "jay_z_master_page = 'http://genius.com/artists/Macklemore'\n",
=======
      "jay_z_master_page = 'http://genius.com/artists/Billy-joel'\n",
>>>>>>> Stashed changes
      "\n",
      "r = requests.get(jay_z_master_page)\n",
      "tree = html.fromstring(r.text)\n",
      "songs_section = tree.xpath('//section[@class=\"all_songs\"]')[0]\n",
<<<<<<< Updated upstream
      "for url in songs_section.xpath('.//li/a/@href'):\n",
      "    save_web_to_file(url)\n",
      "    print url\n",
      "\n",
      "parsed_lyrics = html.parse(raw_lyrics_file)\n",
      "extracted_lyrics = parsed_lyrics.\\\n",
      "    xpath('//div[@class=\"lyrics_container\"]//p')\n",
      "    "
     ],
     "language": "python",
     "metadata": {},
=======
      "urls = songs_section.xpath('.//li/a/@href')"
     ],
     "language": "python",
     "metadata": {},
     "outputs": [],
     "prompt_number": 42
    },
    {
     "cell_type": "code",
     "collapsed": false,
     "input": [
      "url = 'http://rap.genius.com/Mop-4-alarm-blaze-lyrics'\n",
      "save_web_to_file(url)\n",
      "\n",
      "response = requests.get(url)\n",
      "tree = html.fromstring(response.text)\n",
      "entries = tree.xpath('//div[@class=\"lyrics_container\"]//p')\n",
      "print entries"
     ],
     "language": "python",
     "metadata": {},
>>>>>>> Stashed changes
     "outputs": [
      {
       "output_type": "stream",
       "stream": "stdout",
       "text": [
<<<<<<< Updated upstream
        "http://rap.genius.com/Macklemore-american-lyrics\n",
        "http://rap.genius.com/Macklemore-and-we-danced-lyrics"
       ]
      },
      {
       "output_type": "stream",
       "stream": "stdout",
       "text": [
        "\n",
        "http://rap.genius.com/Fences-arrows-lyrics"
       ]
      },
      {
       "output_type": "stream",
       "stream": "stdout",
       "text": [
        "\n",
        "http://rap.genius.com/Macklemore-as-soon-as-i-wake-up-lyrics"
       ]
      },
      {
       "output_type": "stream",
       "stream": "stdout",
       "text": [
        "\n",
        "http://rap.genius.com/Nick-steele-atelphobia-lyrics"
       ]
      },
      {
       "output_type": "stream",
       "stream": "stdout",
       "text": [
        "\n",
        "http://rap.genius.com/Macklemore-at-the-party-lyrics"
       ]
      },
      {
       "output_type": "stream",
       "stream": "stdout",
       "text": [
        "\n",
        "http://rap.genius.com/Macklemore-and-ryan-lewis-a-wake-lyrics"
       ]
      },
      {
       "output_type": "stream",
       "stream": "stdout",
       "text": [
        "\n",
        "http://rap.genius.com/Macklemore-backroom-freestyle-lyrics"
       ]
      },
      {
       "output_type": "stream",
       "stream": "stdout",
       "text": [
        "\n",
        "http://rap.genius.com/Macklemore-b-boy-lyrics"
       ]
      },
      {
       "output_type": "stream",
       "stream": "stdout",
       "text": [
        "\n",
        "http://rap.genius.com/The-world-famous-tony-williams-blazing-high-lyrics"
       ]
      },
      {
       "output_type": "stream",
       "stream": "stdout",
       "text": [
        "\n",
        "http://rap.genius.com/Macklemore-bush-song-lyrics"
       ]
      },
      {
       "output_type": "stream",
       "stream": "stdout",
       "text": [
        "\n",
        "http://rap.genius.com/Macklemore-cant-hold-us-lyrics"
       ]
      },
      {
       "output_type": "stream",
       "stream": "stdout",
       "text": [
        "\n",
        "http://rap.genius.com/Macklemore-and-ryan-lewis-castle-lyrics"
       ]
      },
      {
       "output_type": "stream",
       "stream": "stdout",
       "text": [
        "\n",
        "http://rap.genius.com/Macklemore-church-lyrics"
       ]
      },
      {
       "output_type": "stream",
       "stream": "stdout",
       "text": [
        "\n",
        "http://rap.genius.com/Macklemore-city-dont-sleep-lyrics"
       ]
      },
      {
       "output_type": "stream",
       "stream": "stdout",
       "text": [
        "\n",
        "http://rap.genius.com/Macklemore-claiming-the-city-lyrics"
       ]
      },
      {
       "output_type": "stream",
       "stream": "stdout",
       "text": [
        "\n",
        "http://rap.genius.com/Cunninlynguists-close-your-eyes-lyrics"
       ]
      },
      {
       "output_type": "stream",
       "stream": "stdout",
       "text": [
        "\n",
        "http://rap.genius.com/Macklemore-contradiction-lyrics"
       ]
      },
=======
        "[<Element p at 0x7f1af75548e8>]\n"
       ]
      }
     ],
     "prompt_number": 38
    },
    {
     "cell_type": "code",
     "collapsed": false,
     "input": [
      "# doc = etree.fromstring(tr)\n",
      "btags = tree.xpath('//p')\n",
      "# btags.ElementChildIterator()\n",
      "for b in btags:\n",
      "    print b.text\n",
      "    \n",
      "    \n",
      "# for idx, entry in enumerate(entries):\n",
      "#     print idx, entries[idx].text"
     ],
     "language": "python",
     "metadata": {},
     "outputs": [
>>>>>>> Stashed changes
      {
       "output_type": "stream",
       "stream": "stdout",
       "text": [
        "\n",
<<<<<<< Updated upstream
        "http://rap.genius.com/Macklemore-and-ryan-lewis-cowboy-boots-lyrics"
       ]
      },
=======
        "      \n",
        "\n",
        "    \n",
        "January 1st, 1998\n",
        "[Verse 1: Lil' Fame]\n",
        "An \n",
        "\n",
        "    This video is processing \u2013 it'll appear automatically when it's done.\n",
        "  \n",
        "Add a suggestion\n",
        "\n",
        "    27 annotations\n",
        "  \n",
        "\n",
        "      13 unreviewed \n",
        "    \n",
        "You might also enjoy\n",
        "For example:\n",
        "Add an image, video, or tweet by pasting in the URL:\n",
        "Add a link like this:\n",
        "None\n",
        "To add a video, just insert the link (youtube, vimeo, etc).\n",
        "Formatting:\n",
        "          \n",
        "Links:\n",
        "None\n",
        "None\n",
        "Block quotes:\n",
        "Numbered lists:\n",
        "Bulleted lists:\n",
        "Text size:\n",
        "          \n",
        "Add an image, video, or tweet by pasting in the URL:\n",
        "Add a link like this:\n",
        "Simple formatting:\n",
        "      \n",
        "Links:\n",
        "Block quotes:\n",
        "Numbered lists:\n",
        "Bulleted lists:\n",
        "Text size:\n",
        "      \n",
        "Tired of entering your email address? Create a Genius account and you'll never have to worry about it (or anything else) ever again:\n",
        "\n",
        "    By clicking \u201cCreate Account\u201d, you are indicating that you have\n",
        "    read and agree to the \n",
        "(Already have an account? \n"
       ]
      }
     ],
     "prompt_number": 41
    },
    {
     "cell_type": "code",
     "collapsed": false,
     "input": [
      "for url in urls:\n",
      "#     url = 'http://rap.genius.com/Mop-4-alarm-blaze-lyrics'\n",
      "    save_web_to_file(url)"
     ],
     "language": "python",
     "metadata": {},
     "outputs": [],
     "prompt_number": 44
    },
    {
     "cell_type": "code",
     "collapsed": false,
     "input": [
      "for url in urls:\n",
      "    stripped_url = url.split('//')[1]\n",
      "    filename = stripped_url.replace('/', '_')\n",
      "    print filename\n",
      "    \n",
      "# with io.open('rock.genius.com_Billy-joel-all-about-soul-lyrics', 'r', encoding='utf8') as infile:\n",
      "from lxml import etree\n",
      "tree = etree.parse(\"rock.genius.com_Billy-joel-captain-jack-lyrics\")\n",
      "\n",
      "\n",
      "parsed_lyrics = html.parse(\"rock.genius.com_Billy-joel-all-about-soul-lyrics\")\n",
      "extracted_lyrics = parsed_lyrics.\\\n",
      "                    xpath('//div[@class=\"lyrics_container\"]//p')\n",
      "print extracted_lyrics"
     ],
     "language": "python",
     "metadata": {},
     "outputs": [
>>>>>>> Stashed changes
      {
       "output_type": "stream",
       "stream": "stdout",
       "text": [
<<<<<<< Updated upstream
        "\n",
        "http://rap.genius.com/Macklemore-ego-lyrics"
       ]
      },
      {
       "output_type": "stream",
       "stream": "stdout",
       "text": [
        "\n"
       ]
      }
     ],
     "prompt_number": 13
    },
    {
     "cell_type": "code",
     "collapsed": false,
     "input": [],
     "language": "python",
     "metadata": {},
     "outputs": []
=======
        "rock.genius.com_Billy-joel-all-about-soul-lyrics\n",
        "rock.genius.com_Billy-joel-allentown-lyrics\n",
        "rap.genius.com_Billy-joel-all-for-leyna-lyrics\n",
        "rock.genius.com_Billy-joel-a-matter-of-trust-lyrics\n",
        "rock.genius.com_Billy-joel-and-so-it-goes-lyrics\n",
        "rock.genius.com_Billy-joel-an-innocent-man-lyrics\n",
        "rock.genius.com_Billy-joel-baby-grand-lyrics\n",
        "rock.genius.com_Billy-joel-big-shot-lyrics\n",
        "rock.genius.com_Billy-joel-captain-jack-lyrics\n",
        "rock.genius.com_Billy-joel-dont-ask-me-why-lyrics\n",
        "rock.genius.com_Billy-joel-everybody-loves-you-now-lyrics\n",
        "rock.genius.com_Billy-joel-goodnight-saigon-lyrics\n",
        "rock.genius.com_Billy-joel-hey-girl-lyrics\n",
        "rock.genius.com_Billy-joel-honesty-lyrics\n",
        "rock.genius.com_Billy-joel-i-go-to-extremes-lyrics\n",
        "rock.genius.com_Billy-joel-its-still-rock-and-roll-to-me-lyrics\n",
        "rock.genius.com_Billy-joel-just-the-way-you-are-lyrics\n",
        "rock.genius.com_Billy-joel-keeping-the-faith-lyrics\n",
        "rock.genius.com_Billy-joel-leningrad-lyrics\n",
        "rock.genius.com_Billy-joel-light-as-the-breeze-lyrics\n"
       ]
      },
      {
       "ename": "XMLSyntaxError",
       "evalue": "error parsing attribute name, line 6, column 295",
       "output_type": "pyerr",
       "traceback": [
        "\u001b[1;36m  File \u001b[1;32m\"<string>\"\u001b[1;36m, line \u001b[1;32munknown\u001b[0m\n\u001b[1;31mXMLSyntaxError\u001b[0m\u001b[1;31m:\u001b[0m error parsing attribute name, line 6, column 295\n"
       ]
      }
     ],
     "prompt_number": 56
>>>>>>> Stashed changes
    }
   ],
   "metadata": {}
  }
 ]
}