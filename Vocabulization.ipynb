{
 "metadata": {
  "name": "",
  "signature": "sha256:ed5339260d387e1d35f69b035d27650dcff1efaaca186a71fb3ed4dffc1d35f1"
 },
 "nbformat": 3,
 "nbformat_minor": 0,
 "worksheets": [
  {
   "cells": [
    {
     "cell_type": "markdown",
     "metadata": {},
     "source": [
      "Here, we do some basic manipulation to look at the contents of the lyrics files we're working with."
     ]
    },
    {
     "cell_type": "code",
     "collapsed": false,
     "input": [
      "from sklearn.feature_extraction.text import CountVectorizer"
     ],
     "language": "python",
     "metadata": {},
     "outputs": [],
     "prompt_number": 1
    },
    {
     "cell_type": "code",
     "collapsed": false,
     "input": [
      "from glob import glob\n",
      "\n",
      "lyrics = glob('lyrics/*')\n",
      "lyrics"
     ],
     "language": "python",
     "metadata": {},
     "outputs": [
      {
       "metadata": {},
       "output_type": "pyout",
       "prompt_number": 2,
       "text": [
        "['lyrics/Amil-4-da-fam-lyrics',\n",
        " 'lyrics/Big-l-7-minute-freestyle-lyrics',\n",
        " 'lyrics/Billy-joel-a-matter-of-trust-lyrics',\n",
        " 'lyrics/Billy-joel-all-for-leyna-lyrics',\n",
        " 'lyrics/Billy-joel-allentown-lyrics',\n",
        " 'lyrics/Billy-joel-an-innocent-man-lyrics',\n",
        " 'lyrics/Billy-joel-and-so-it-goes-lyrics',\n",
        " 'lyrics/Billy-joel-baby-grand-lyrics',\n",
        " 'lyrics/Billy-joel-big-shot-lyrics',\n",
        " 'lyrics/Billy-joel-captain-jack-lyrics',\n",
        " 'lyrics/Billy-joel-dont-ask-me-why-lyrics',\n",
        " 'lyrics/Billy-joel-everybody-loves-you-now-lyrics',\n",
        " 'lyrics/Billy-joel-goodnight-saigon-lyrics',\n",
        " 'lyrics/Billy-joel-hey-girl-lyrics',\n",
        " 'lyrics/Billy-joel-honesty-lyrics',\n",
        " 'lyrics/Billy-joel-i-go-to-extremes-lyrics',\n",
        " 'lyrics/Billy-joel-its-still-rock-and-roll-to-me-lyrics',\n",
        " 'lyrics/Billy-joel-just-the-way-you-are-lyrics',\n",
        " 'lyrics/Billy-joel-keeping-the-faith-lyrics',\n",
        " 'lyrics/Billy-joel-leningrad-lyrics',\n",
        " 'lyrics/Billy-joel-light-as-the-breeze-lyrics',\n",
        " 'lyrics/Bob-marley-africa-unite-lyrics',\n",
        " 'lyrics/Bob-marley-african-herbsman-lyrics',\n",
        " 'lyrics/Bob-marley-babylon-system-lyrics',\n",
        " 'lyrics/Bob-marley-bad-card-lyrics',\n",
        " 'lyrics/Bob-marley-buffalo-soldier-lyrics',\n",
        " 'lyrics/Bob-marley-burnin-and-lootin-lyrics',\n",
        " 'lyrics/Bob-marley-burnin-and-lootin-remix-lyrics',\n",
        " 'lyrics/Bob-marley-chances-are-lyrics',\n",
        " 'lyrics/Bob-marley-coming-in-from-the-cold-lyrics',\n",
        " 'lyrics/Bob-marley-concrete-jungle-1973-lyrics',\n",
        " 'lyrics/Bob-marley-concrete-jungle-lyrics',\n",
        " 'lyrics/Bob-marley-could-you-be-loved-lyrics',\n",
        " 'lyrics/Bob-marley-crazy-baldheads-lyrics',\n",
        " 'lyrics/Bob-marley-easy-skanking-lyrics',\n",
        " 'lyrics/Bob-marley-exodus-lyrics',\n",
        " 'lyrics/Bob-marley-forever-loving-jah-lyrics',\n",
        " 'lyrics/Bob-marley-get-up-stand-up-lyrics',\n",
        " 'lyrics/Bob-marley-how-many-times-lyrics',\n",
        " 'lyrics/Busta-rhymes-chris-lighty-lyrics',\n",
        " 'lyrics/Cunninlynguists-close-your-eyes-lyrics',\n",
        " 'lyrics/Duke-london-2003-til-infinity-lyrics',\n",
        " 'lyrics/Fences-arrows-lyrics',\n",
        " 'lyrics/Jay-z-03-bonnie-and-clyde-lyrics',\n",
        " 'lyrics/Jay-z-1-900-hustler-lyrics',\n",
        " 'lyrics/Jay-z-100-bill-lyrics',\n",
        " 'lyrics/Jay-z-2-many-hoes-lyrics',\n",
        " 'lyrics/Jay-z-20-bag-shorty-lyrics',\n",
        " 'lyrics/Jay-z-2002-funk-flex-freestyle-lyrics',\n",
        " 'lyrics/Jay-z-22-twos-lyrics',\n",
        " 'lyrics/Jay-z-30-something-lyrics',\n",
        " 'lyrics/Jay-z-30-something-remix-lyrics',\n",
        " 'lyrics/Jay-z-44-fours-lyrics',\n",
        " 'lyrics/Lil-cease-4-my-niggaz-lyrics',\n",
        " 'lyrics/Macklemore-american-lyrics',\n",
        " 'lyrics/Macklemore-and-ryan-lewis-a-wake-lyrics',\n",
        " 'lyrics/Macklemore-and-ryan-lewis-castle-lyrics',\n",
        " 'lyrics/Macklemore-and-ryan-lewis-cowboy-boots-lyrics',\n",
        " 'lyrics/Macklemore-and-we-danced-lyrics',\n",
        " 'lyrics/Macklemore-as-soon-as-i-wake-up-lyrics',\n",
        " 'lyrics/Macklemore-at-the-party-lyrics',\n",
        " 'lyrics/Macklemore-b-boy-lyrics',\n",
        " 'lyrics/Macklemore-backroom-freestyle-lyrics',\n",
        " 'lyrics/Macklemore-bush-song-lyrics',\n",
        " 'lyrics/Macklemore-cant-hold-us-lyrics',\n",
        " 'lyrics/Macklemore-church-lyrics',\n",
        " 'lyrics/Macklemore-city-dont-sleep-lyrics',\n",
        " 'lyrics/Macklemore-claiming-the-city-lyrics',\n",
        " 'lyrics/Macklemore-contradiction-lyrics',\n",
        " 'lyrics/Macklemore-ego-lyrics',\n",
        " 'lyrics/Memphis-bleek-1-2-yall-lyrics',\n",
        " 'lyrics/Miley-cyrus-4x4-lyrics',\n",
        " 'lyrics/Miley-cyrus-7-things-lyrics',\n",
        " 'lyrics/Miley-cyrus-adore-you-lyrics',\n",
        " 'lyrics/Miley-cyrus-bangerz-annotated-tracklist-lyrics',\n",
        " 'lyrics/Miley-cyrus-bangerz-world-tour-dates-lyrics',\n",
        " 'lyrics/Miley-cyrus-beach-weekend-lyrics',\n",
        " 'lyrics/Miley-cyrus-best-of-both-worlds-lyrics',\n",
        " 'lyrics/Miley-cyrus-bottom-of-the-ocean-lyrics',\n",
        " 'lyrics/Miley-cyrus-breakout-lyrics',\n",
        " 'lyrics/Miley-cyrus-cant-be-tamed-lyrics',\n",
        " 'lyrics/Miley-cyrus-do-my-thang-lyrics',\n",
        " 'lyrics/Miley-cyrus-drive-lyrics',\n",
        " 'lyrics/Miley-cyrus-every-rose-has-its-thorn-lyrics',\n",
        " 'lyrics/Mop-4-alarm-blaze-lyrics',\n",
        " 'lyrics/Nick-steele-atelphobia-lyrics',\n",
        " 'lyrics/Rick-ross-3-kings-lyrics',\n",
        " 'lyrics/The-notorious-big-hold-ya-head-lyrics',\n",
        " 'lyrics/The-world-famous-tony-williams-blazing-high-lyrics',\n",
        " 'lyrics/Time-magazine-100-most-influential-people-in-the-world-lyrics']"
       ]
      }
     ],
     "prompt_number": 2
    },
    {
     "cell_type": "code",
     "collapsed": false,
     "input": [
      "cv = CountVectorizer()"
     ],
     "language": "python",
     "metadata": {},
     "outputs": [],
     "prompt_number": 3
    },
    {
     "cell_type": "code",
     "collapsed": false,
     "input": [
      "docs = [open(f).read() for f in lyrics]"
     ],
     "language": "python",
     "metadata": {},
     "outputs": [],
     "prompt_number": 10
    },
    {
     "cell_type": "code",
     "collapsed": false,
     "input": [
      "# This is indeed the contents of the file\n",
      "docs[0]"
     ],
     "language": "python",
     "metadata": {},
     "outputs": [
      {
       "metadata": {},
       "output_type": "pyout",
       "prompt_number": 11,
       "text": [
        "'[Verse 1: Memphis Bleek]\\nAyo, this time it\\'s for my family, we ride or die\\nIt\\'s in the blood til the death, now aim for the sky\\nMy four blow fo sure, for dough, for only\\nIt\\'s money, drugs, and hot slugs\\nYou know Bleek squeeze hammers til they nail me\\nFuck wha niggas tell me\\nStreet scholar, keep firing is what they tell me\\nDrug chemist, thug nigga be named Memphis\\nStraight from da borough of dem B.K. niggas\\nWhere we rob for the fun of it, hustle for the drug of it\\nWrap money in rubber bands, just for the love of it\\nStraight from my ghetto, we listen to heavy metal like\\nDesert Eagles, street sweepers, loud metal\\nIt\\'s hit and run now, motherfuck anyone of you\\nWe dem niggas be in ya crib just like furniture\\nPop up wit the gun in ya\\nRelease one for zero-zero M (Yeah)\\nBleek-R-O-C (Yeah yeah) dot com (Yeah)\\n\\n[Verse 2: Beanie Sigel]\\nThis Philly cat back at it\\nStill throwing crack at it\\nStill fucking wit them crack addicts\\nStill bust \\'em wit them black \\'matics\\nIt\\'s ain\\'t the bucks, it\\'s the rush\\nYou trying to get my ass at it\\nThey say I think ass backwards\\nFuck how I act, as long as I stack, it\\'s all mathematics\\nOur tracks nice, hug the block to track dice\\nLate night, club night, Mac attract dikes\\nI pull up, Cadillac truck nice\\nTwo guns, you know Mac pack gat twice\\nGets that crack back with that ice\\nNo joke wit the coke, I whips that right\\nNo doubt, never a droubt, gets that price (Uh)\\nIt gets that nice, when you live that life\\nPapi knows yours name and you ditched that wife nigga\\nGets that green nigga, gets that chain nigga\\n\\n[Amil]\\nI get forty G\\'s a feature now\\nHold Franklins like a Aretha now\\nIn the SL two seater now\\nAnd I\\'m in nothing but diamonds\\nI\\'m the illest female that you heard thus far\\nFive-five with the thirty-four B-cup bra\\nI don\\'t fuck with them cats who ain\\'t up to par\\nI get niggas for cash, clothes, jeweleries, plus cars\\nI\\'m talking rent money, I\\'m talking bank money\\nI\\'m talking Martha Keats step of wit the rent money\\nMoving on up, two in the sauna\\nStill ride through the block, pull up on the corner, plus\\nPlus, give me an inch so I can take a mile\\nI bring life like a new born naked child\\nBitches trying to come up, gotta wait a while\\nAs of now, Amil-lion just played ya style\\n(You dealing wit), nigga\\n\\n[Jay-Z]\\nThe, the Roc, the the, the Roc\\n(Let me talk to ya\\'ll niggas real quick)\\nThe, the Roc, uh uh, the Roc\\n\\nYo, y\\'all niggas truly ain\\'t ready for this \"Dynasty\" thing\\nY\\'all thinking Blake Carrington, I\\'m thinkin more like Ming\\nI got four nephews, and they all writing\\nThey all young and wild, plus they all like things\\nAnd I\\'m having a child, which is more frighting\\nWhat y\\'all about to witness is big business kid\\nBig bosses, cocky, and big Benzsesses\\nCome through flossing them shiny rims it is\\nAnd \"loss\" don\\'t pop up in their sentences\\nI think you understand what type of event this is\\nI don\\'t think you know how focused young Memphis is\\nOr how Sigel\\'s so real, when you add on Amil\\nThis is much more than rap, it\\'s black entrepreneur\\nClothing, movie, and films, we come to conquer it all\\nRocawear, eighty mill in like, eighteen months\\nYou could bullshit with rap if you want, motherfuckers\\nWhen it\\'s all said and done, we gon see what\\'s what\\nHolla at Hov, I\\'ll be in the cut (What, huh)\\n\\nThe, the Roc, the the, the Roc\\nThe, the Roc, the uh, the Roc (You rollin wit)\\nThe Roc, dynasty niggas (Whoop)\\nUh-huh, get\\'cha mind right, c\\'mon\\nRoc-A-Fella Records, 2000 nigga\\nGet\\'cha mind right, holla'"
       ]
      }
     ],
     "prompt_number": 11
    },
    {
     "cell_type": "code",
     "collapsed": false,
     "input": [
      "sparse_docs = cv.fit_transform(docs)"
     ],
     "language": "python",
     "metadata": {},
     "outputs": [],
     "prompt_number": 14
    },
    {
     "cell_type": "code",
     "collapsed": false,
     "input": [
      "# We make this a numpy array so we can do fancy indexing later\n",
      "vocab = np.asarray(cv.get_feature_names())"
     ],
     "language": "python",
     "metadata": {},
     "outputs": [],
     "prompt_number": 68
    },
    {
     "cell_type": "code",
     "collapsed": false,
     "input": [
      "# Get a list of all Billy Joel lyrics\n",
      "billy_joel = [l for l in lyrics if l.startswith('lyrics/Billy-joel')]"
     ],
     "language": "python",
     "metadata": {},
     "outputs": [],
     "prompt_number": 21
    },
    {
     "cell_type": "code",
     "collapsed": false,
     "input": [
      "# Associate each sparse_doc with the lyrics filename\n",
      "import pandas as pd\n",
      "lyrics_map = {song: matrix for song, matrix in zip(lyrics, sparse_docs)}"
     ],
     "language": "python",
     "metadata": {},
     "outputs": [],
     "prompt_number": 70
    },
    {
     "cell_type": "code",
     "collapsed": false,
     "input": [
      "# Now we can take a lyrics filename from the billy_joel list\n",
      "billy_joel[0]"
     ],
     "language": "python",
     "metadata": {},
     "outputs": [
      {
       "metadata": {},
       "output_type": "pyout",
       "prompt_number": 28,
       "text": [
        "'lyrics/Billy-joel-a-matter-of-trust-lyrics'"
       ]
      }
     ],
     "prompt_number": 28
    },
    {
     "cell_type": "code",
     "collapsed": false,
     "input": [
      "# And use it to index into the dictionary of \"mapped\" lyrics\n",
      "billy0 = lyrics_mapped[billy_joel[0]]\n",
      "billy0"
     ],
     "language": "python",
     "metadata": {},
     "outputs": [
      {
       "metadata": {},
       "output_type": "pyout",
       "prompt_number": 71,
       "text": [
        "<1x4931 sparse matrix of type '<type 'numpy.int64'>'\n",
        "\twith 143 stored elements in Compressed Sparse Row format>"
       ]
      }
     ],
     "prompt_number": 71
    },
    {
     "cell_type": "code",
     "collapsed": false,
     "input": [
      "# We can get the indices of the non-zero items like so\n",
      "# We're getting row and column indices, and we just want the latter\n",
      "np.nonzero(billy0)"
     ],
     "language": "python",
     "metadata": {},
     "outputs": [
      {
       "metadata": {},
       "output_type": "pyout",
       "prompt_number": 72,
       "text": [
        "(array([0, 0, 0, 0, 0, 0, 0, 0, 0, 0, 0, 0, 0, 0, 0, 0, 0, 0, 0, 0, 0, 0, 0,\n",
        "        0, 0, 0, 0, 0, 0, 0, 0, 0, 0, 0, 0, 0, 0, 0, 0, 0, 0, 0, 0, 0, 0, 0,\n",
        "        0, 0, 0, 0, 0, 0, 0, 0, 0, 0, 0, 0, 0, 0, 0, 0, 0, 0, 0, 0, 0, 0, 0,\n",
        "        0, 0, 0, 0, 0, 0, 0, 0, 0, 0, 0, 0, 0, 0, 0, 0, 0, 0, 0, 0, 0, 0, 0,\n",
        "        0, 0, 0, 0, 0, 0, 0, 0, 0, 0, 0, 0, 0, 0, 0, 0, 0, 0, 0, 0, 0, 0, 0,\n",
        "        0, 0, 0, 0, 0, 0, 0, 0, 0, 0, 0, 0, 0, 0, 0, 0, 0, 0, 0, 0, 0, 0, 0,\n",
        "        0, 0, 0, 0, 0], dtype=int32),\n",
        " array([ 105,  113,  119,  166,  181,  185,  193,  204,  280,  281,  297,\n",
        "         349,  354,  374,  381,  387,  396,  397,  401,  424,  534,  567,\n",
        "         644,  658,  688,  805,  850,  879,  951,  964, 1239, 1272, 1288,\n",
        "        1424, 1426, 1435, 1510, 1525, 1619, 1670, 1673, 1804, 1819, 1844,\n",
        "        1845, 1856, 1866, 1944, 1966, 1972, 1974, 1988, 2002, 2004, 2074,\n",
        "        2176, 2201, 2256, 2264, 2328, 2368, 2387, 2457, 2461, 2498, 2533,\n",
        "        2537, 2546, 2565, 2571, 2580, 2624, 2674, 2680, 2690, 2731, 2747,\n",
        "        2785, 2805, 2842, 2855, 2857, 2909, 2939, 2942, 2971, 2974, 3000,\n",
        "        3018, 3029, 3032, 3100, 3331, 3388, 3444, 3477, 3506, 3531, 3691,\n",
        "        3817, 3874, 3912, 3978, 3994, 4013, 4089, 4098, 4234, 4283, 4358,\n",
        "        4361, 4364, 4365, 4368, 4382, 4425, 4440, 4458, 4459, 4525, 4526,\n",
        "        4559, 4594, 4600, 4603, 4622, 4632, 4677, 4690, 4702, 4724, 4757,\n",
        "        4758, 4764, 4781, 4786, 4796, 4823, 4835, 4852, 4875, 4908, 4912], dtype=int32))"
       ]
      }
     ],
     "prompt_number": 72
    },
    {
     "cell_type": "code",
     "collapsed": false,
     "input": [
      "_, nonzero_cols = np.nonzero(billy0)\n",
      "vocab[nonzero_cols]"
     ],
     "language": "python",
     "metadata": {},
     "outputs": [
      {
       "metadata": {},
       "output_type": "pyout",
       "prompt_number": 73,
       "text": [
        "array([u'adjust', u'afraid', u'after', u'always', u'an', u'and',\n",
        "       u'another', u'anything', u'aware', u'away', u'back', u'battle',\n",
        "       u'be', u'because', u'been', u'began', u'belief', u'believe',\n",
        "       u'believing', u'betrayed', u'both', u'break', u'burned', u'but',\n",
        "       u'can', u'choose', u'closer', u'cold', u'constant', u'control',\n",
        "       u'distance', u'don', u'doubts', u'emotional', u'end', u'enough',\n",
        "       u'face', u'faith', u'fire', u'fool', u'for', u'get', u'girl', u'go',\n",
        "       u'god', u'gonna', u'got', u'had', u'happen', u'hard', u'hardly',\n",
        "       u'have', u'heard', u'heart', u'hold', u'if', u'in', u'is', u'it',\n",
        "       u'just', u'king', u'know', u'learned', u'leave', u'lie', u'lived',\n",
        "       u'll', u'long', u'lose', u'lot', u'love', u'make', u'matter',\n",
        "       u'may', u'me', u'might', u'mind', u'moment', u'more', u'much',\n",
        "       u'must', u'my', u'never', u'not', u'nothing', u'of', u'offer',\n",
        "       u'only', u'or', u'our', u'out', u'passionate', u'proof',\n",
        "       u'question', u're', u'recover', u'remains', u'resistance', u'sake',\n",
        "       u'share', u'shut', u'situation', u'so', u'some', u'soul', u'start',\n",
        "       u'state', u'sure', u'take', u'that', u'the', u'then', u'there',\n",
        "       u'they', u'this', u'time', u'to', u'too', u'took', u'trust',\n",
        "       u'truth', u'ultimate', u'until', u'upon', u'us', u've', u'verse',\n",
        "       u'walk', u'want', u'was', u'we', u'what', u'whatever', u'when',\n",
        "       u'whole', u'why', u'will', u'with', u'won', u'world', u'wrong',\n",
        "       u'you', u'your'], \n",
        "      dtype='<U16')"
       ]
      }
     ],
     "prompt_number": 73
    },
    {
     "cell_type": "markdown",
     "metadata": {},
     "source": [
      "That looks right! You can check to make sure all those terms show up in the lyrics file.\n",
      "\n",
      "So, how would we iterate over all of the Billy Joel lyrics to get the total vocab size? We could do it with a for loop, keeping words in a set:"
     ]
    },
    {
     "cell_type": "code",
     "collapsed": false,
     "input": [
      "all_billys_words = set()"
     ],
     "language": "python",
     "metadata": {},
     "outputs": [],
     "prompt_number": 92
    },
    {
     "cell_type": "code",
     "collapsed": false,
     "input": [
      "for l in billy_joel:\n",
      "    _, nonzero_cols = np.nonzero(lyrics_mapped[l])\n",
      "    all_billys_words.update(vocab[nonzero_cols])"
     ],
     "language": "python",
     "metadata": {},
     "outputs": [],
     "prompt_number": 93
    },
    {
     "cell_type": "code",
     "collapsed": false,
     "input": [
      "# These are all the words he used\n",
      "len(all_billys_words)"
     ],
     "language": "python",
     "metadata": {},
     "outputs": [
      {
       "metadata": {},
       "output_type": "pyout",
       "prompt_number": 94,
       "text": [
        "1093"
       ]
      }
     ],
     "prompt_number": 94
    },
    {
     "cell_type": "markdown",
     "metadata": {},
     "source": [
      "We could also use matrix algebra"
     ]
    },
    {
     "cell_type": "code",
     "collapsed": false,
     "input": [
      "all_billy_joel = np.sum(lyrics_mapped[l] for l in billy_joel)\n",
      "all_billy_joel"
     ],
     "language": "python",
     "metadata": {},
     "outputs": [
      {
       "metadata": {},
       "output_type": "pyout",
       "prompt_number": 95,
       "text": [
        "<1x4931 sparse matrix of type '<type 'numpy.int64'>'\n",
        "\twith 1093 stored elements in Compressed Sparse Row format>"
       ]
      }
     ],
     "prompt_number": 95
    },
    {
     "cell_type": "code",
     "collapsed": false,
     "input": [
      "_, nonzero_cols = np.nonzero(all_billy_joel)\n",
      "arr_all_billys_words = vocab[nonzero_cols]"
     ],
     "language": "python",
     "metadata": {},
     "outputs": [],
     "prompt_number": 96
    },
    {
     "cell_type": "code",
     "collapsed": false,
     "input": [
      "# Since these are the same size, \n",
      "# we can do a set difference in only one direction\n",
      "len(arr_all_billys_words), len(all_billys_words)"
     ],
     "language": "python",
     "metadata": {},
     "outputs": [
      {
       "metadata": {},
       "output_type": "pyout",
       "prompt_number": 90,
       "text": [
        "(1093, 1093)"
       ]
      }
     ],
     "prompt_number": 90
    },
    {
     "cell_type": "code",
     "collapsed": false,
     "input": [
      "# Indeed, these are the same\n",
      "all_billys_words.difference(arr_all_billys_words)"
     ],
     "language": "python",
     "metadata": {},
     "outputs": [
      {
       "metadata": {},
       "output_type": "pyout",
       "prompt_number": 91,
       "text": [
        "set()"
       ]
      }
     ],
     "prompt_number": 91
    },
    {
     "cell_type": "code",
     "collapsed": false,
     "input": [],
     "language": "python",
     "metadata": {},
     "outputs": []
    }
   ],
   "metadata": {}
  }
 ]
}